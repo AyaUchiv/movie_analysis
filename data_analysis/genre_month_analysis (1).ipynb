{
  "nbformat": 4,
  "nbformat_minor": 0,
  "metadata": {
    "colab": {
      "provenance": []
    },
    "kernelspec": {
      "name": "python3",
      "display_name": "Python 3"
    },
    "language_info": {
      "name": "python"
    }
  },
  "cells": [
    {
      "cell_type": "markdown",
      "source": [
        "# MOVIE ANALYSIS (GENRE AND MONTH)"
      ],
      "metadata": {
        "id": "R9TyrognnooA"
      }
    },
    {
      "cell_type": "markdown",
      "source": [
        "## **LOADING LIBRARIES AND DATASET**"
      ],
      "metadata": {
        "id": "ttK_iUN4fWB8"
      }
    },
    {
      "cell_type": "code",
      "execution_count": null,
      "metadata": {
        "id": "hk7wil4Be7wk"
      },
      "outputs": [],
      "source": [
        "import pandas as pd\n",
        "import numpy as np\n",
        "import matplotlib.pyplot as plt\n",
        "import seaborn as sns\n",
        "\n",
        "#supervised algorithms (random forest)\n",
        "from sklearn.model_selection import train_test_split\n",
        "from sklearn.ensemble import RandomForestRegressor\n",
        "from sklearn.metrics import mean_squared_error, r2_score\n",
        "\n",
        "#unsupervised algorithms (kmeans)\n",
        "from sklearn.cluster import KMeans\n",
        "from sklearn.preprocessing import StandardScaler, MinMaxScaler\n",
        "\n",
        "#unsupervised algorithms (association rule mining)\n",
        "from mlxtend.preprocessing import TransactionEncoder\n",
        "from mlxtend.frequent_patterns import apriori, association_rules\n",
        "\n",
        "#one hot encoding\n",
        "from sklearn.preprocessing import MultiLabelBinarizer"
      ]
    },
    {
      "cell_type": "code",
      "source": [
        "movie = pd.read_csv('movie.csv')\n",
        "\n",
        "print(movie.head()) #first 5 rows\n",
        "print()\n",
        "print(movie.info())  #movie info\n",
        "print()\n",
        "print(movie.describe)"
      ],
      "metadata": {
        "colab": {
          "base_uri": "https://localhost:8080/"
        },
        "id": "XMHiYPGGgKlb",
        "outputId": "beb62370-d08a-49e0-e7b8-d1b97f54ecbe"
      },
      "execution_count": null,
      "outputs": [
        {
          "output_type": "stream",
          "name": "stdout",
          "text": [
            "                              title    imdb_id release_date     budget  \\\n",
            "0  Once Upon a Time... in Hollywood  tt7131622   2019-07-24   95000000   \n",
            "1                    Pain and Glory  tt8291806   2019-03-22   10769016   \n",
            "2                            Taxi 5  tt7238392   2017-01-19   20390000   \n",
            "3                       Wonder Park  tt6428676   2019-03-13  100000000   \n",
            "4                 The King of Kings  tt7967302   2025-04-07   25200000   \n",
            "\n",
            "     revenue  tmdb_rating  vote_count  runtimeMinutes  imdb_rating  \\\n",
            "0  392105159        7.426       14234             161          7.6   \n",
            "1   37359689        7.382        1849             113          7.5   \n",
            "2   64497208        5.398        1049             102          4.6   \n",
            "3  119559110        6.529         727              85          5.9   \n",
            "4   66465461        8.600         102             103          6.8   \n",
            "\n",
            "   avg_cast_rating  director_rating  writer_rating  composer_rating  \\\n",
            "0             7.35             7.60           7.60              NaN   \n",
            "1             7.22             7.23           7.23             7.24   \n",
            "2             4.78             4.96           5.31             4.60   \n",
            "3             6.29              NaN           5.99             6.47   \n",
            "4             6.86             6.80           6.53             6.56   \n",
            "\n",
            "   cinematographer_rating  editor_rating  \\\n",
            "0                    7.13           7.39   \n",
            "1                    7.10           7.06   \n",
            "2                    5.25           6.53   \n",
            "3                    5.90           6.22   \n",
            "4                    6.80           6.80   \n",
            "\n",
            "                                           genre  \n",
            "0                        Comedy, Drama, Thriller  \n",
            "1                                          Drama  \n",
            "2                          Action, Comedy, Crime  \n",
            "3  Adventure, Animation, Comedy, Family, Fantasy  \n",
            "4   Adventure, Animation, Drama, Family, Fantasy  \n",
            "\n",
            "<class 'pandas.core.frame.DataFrame'>\n",
            "RangeIndex: 1373 entries, 0 to 1372\n",
            "Data columns (total 16 columns):\n",
            " #   Column                  Non-Null Count  Dtype  \n",
            "---  ------                  --------------  -----  \n",
            " 0   title                   1373 non-null   object \n",
            " 1   imdb_id                 1373 non-null   object \n",
            " 2   release_date            1373 non-null   object \n",
            " 3   budget                  1373 non-null   int64  \n",
            " 4   revenue                 1373 non-null   int64  \n",
            " 5   tmdb_rating             1373 non-null   float64\n",
            " 6   vote_count              1373 non-null   int64  \n",
            " 7   runtimeMinutes          1373 non-null   int64  \n",
            " 8   imdb_rating             1373 non-null   float64\n",
            " 9   avg_cast_rating         1370 non-null   float64\n",
            " 10  director_rating         1371 non-null   float64\n",
            " 11  writer_rating           1371 non-null   float64\n",
            " 12  composer_rating         1321 non-null   float64\n",
            " 13  cinematographer_rating  1312 non-null   float64\n",
            " 14  editor_rating           1352 non-null   float64\n",
            " 15  genre                   1373 non-null   object \n",
            "dtypes: float64(8), int64(4), object(4)\n",
            "memory usage: 171.8+ KB\n",
            "None\n",
            "\n",
            "<bound method NDFrame.describe of                                  title     imdb_id release_date     budget  \\\n",
            "0     Once Upon a Time... in Hollywood   tt7131622   2019-07-24   95000000   \n",
            "1                       Pain and Glory   tt8291806   2019-03-22   10769016   \n",
            "2                               Taxi 5   tt7238392   2017-01-19   20390000   \n",
            "3                          Wonder Park   tt6428676   2019-03-13  100000000   \n",
            "4                    The King of Kings   tt7967302   2025-04-07   25200000   \n",
            "...                                ...         ...          ...        ...   \n",
            "1368                       Io Capitano  tt14225838   2023-09-07   13272819   \n",
            "1369                         The Dunes   tt6910678   2021-09-30      55000   \n",
            "1370                              Fall  tt15325794   2022-08-11    3000000   \n",
            "1371         Glossary of Broken Dreams   tt7209510   2018-03-16      15000   \n",
            "1372                  The VelociPastor   tt1843303   2018-09-28      36000   \n",
            "\n",
            "        revenue  tmdb_rating  vote_count  runtimeMinutes  imdb_rating  \\\n",
            "0     392105159        7.426       14234             161          7.6   \n",
            "1      37359689        7.382        1849             113          7.5   \n",
            "2      64497208        5.398        1049             102          4.6   \n",
            "3     119559110        6.529         727              85          5.9   \n",
            "4      66465461        8.600         102             103          6.8   \n",
            "...         ...          ...         ...             ...          ...   \n",
            "1368          0        7.799         778             121          7.6   \n",
            "1369          0        5.600           5              98          6.5   \n",
            "1370   17363261        7.125        4294             107          6.4   \n",
            "1371          0        6.800          11              99          5.7   \n",
            "1372          0        5.200         222              75          5.1   \n",
            "\n",
            "      avg_cast_rating  director_rating  writer_rating  composer_rating  \\\n",
            "0                7.35             7.60           7.60              NaN   \n",
            "1                7.22             7.23           7.23             7.24   \n",
            "2                4.78             4.96           5.31             4.60   \n",
            "3                6.29              NaN           5.99             6.47   \n",
            "4                6.86             6.80           6.53             6.56   \n",
            "...               ...              ...            ...              ...   \n",
            "1368             7.52             7.09           7.20             6.34   \n",
            "1369             6.50             6.50           6.50             6.50   \n",
            "1370             6.38             6.35           6.31             6.22   \n",
            "1371             5.69             5.67           5.67             5.70   \n",
            "1372             5.15             5.74           5.74             5.10   \n",
            "\n",
            "      cinematographer_rating  editor_rating  \\\n",
            "0                       7.13           7.39   \n",
            "1                       7.10           7.06   \n",
            "2                       5.25           6.53   \n",
            "3                       5.90           6.22   \n",
            "4                       6.80           6.80   \n",
            "...                      ...            ...   \n",
            "1368                    7.14           7.09   \n",
            "1369                    6.50           6.50   \n",
            "1370                    6.18           6.32   \n",
            "1371                     NaN           5.67   \n",
            "1372                    5.10           5.74   \n",
            "\n",
            "                                               genre  \n",
            "0                            Comedy, Drama, Thriller  \n",
            "1                                              Drama  \n",
            "2                              Action, Comedy, Crime  \n",
            "3      Adventure, Animation, Comedy, Family, Fantasy  \n",
            "4       Adventure, Animation, Drama, Family, Fantasy  \n",
            "...                                              ...  \n",
            "1368                                Adventure, Drama  \n",
            "1369                                        Thriller  \n",
            "1370                                Action, Thriller  \n",
            "1371  Animation, Comedy, Documentary, Drama, History  \n",
            "1372               Action, Adventure, Comedy, Horror  \n",
            "\n",
            "[1373 rows x 16 columns]>\n"
          ]
        }
      ]
    },
    {
      "cell_type": "markdown",
      "source": [
        "## **DATA PREPROCESSING**"
      ],
      "metadata": {
        "id": "5UzWigpihEpk"
      }
    },
    {
      "cell_type": "markdown",
      "source": [
        "**Converting release_year to datetime format and exporting the months**"
      ],
      "metadata": {
        "id": "pBrY2-QuhN-3"
      }
    },
    {
      "cell_type": "code",
      "source": [
        "from datetime import datetime\n",
        "\n",
        "# Now convert the entire column to datetime safely\n",
        "movie['release_date'] = pd.to_datetime(movie['release_date'], errors='coerce')\n",
        "\n",
        "#adding a column to view the month release for each\n",
        "movie['release_month'] = movie['release_date'].dt.month_name()\n",
        "\n",
        "#adding a column to view the year release for each\n",
        "movie['release_year'] = movie['release_date'].dt.year"
      ],
      "metadata": {
        "id": "BSFLyYsEhQkx"
      },
      "execution_count": null,
      "outputs": []
    },
    {
      "cell_type": "code",
      "source": [
        "movie.columns"
      ],
      "metadata": {
        "colab": {
          "base_uri": "https://localhost:8080/"
        },
        "id": "qcK7EtaZ7-qw",
        "outputId": "3264f579-e432-4c27-817e-ad0dd20120dc"
      },
      "execution_count": null,
      "outputs": [
        {
          "output_type": "execute_result",
          "data": {
            "text/plain": [
              "Index(['title', 'imdb_id', 'release_date', 'budget', 'revenue', 'tmdb_rating',\n",
              "       'vote_count', 'runtimeMinutes', 'imdb_rating', 'avg_cast_rating',\n",
              "       'director_rating', 'writer_rating', 'composer_rating',\n",
              "       'cinematographer_rating', 'editor_rating', 'genre', 'release_month',\n",
              "       'release_year'],\n",
              "      dtype='object')"
            ]
          },
          "metadata": {},
          "execution_count": 4
        }
      ]
    },
    {
      "cell_type": "code",
      "source": [
        "movie_df = movie[['title', 'release_month', 'runtimeMinutes', 'genre', 'budget', 'revenue']]\n",
        "\n",
        "movie_df.head()"
      ],
      "metadata": {
        "colab": {
          "base_uri": "https://localhost:8080/",
          "height": 206
        },
        "id": "Rb231TkW4suR",
        "outputId": "91932df9-0d88-4671-b0ac-3f27af28b6dd"
      },
      "execution_count": null,
      "outputs": [
        {
          "output_type": "execute_result",
          "data": {
            "text/plain": [
              "                              title release_month  runtimeMinutes  \\\n",
              "0  Once Upon a Time... in Hollywood          July             161   \n",
              "1                    Pain and Glory         March             113   \n",
              "2                            Taxi 5       January             102   \n",
              "3                       Wonder Park         March              85   \n",
              "4                 The King of Kings         April             103   \n",
              "\n",
              "                                           genre     budget    revenue  \n",
              "0                        Comedy, Drama, Thriller   95000000  392105159  \n",
              "1                                          Drama   10769016   37359689  \n",
              "2                          Action, Comedy, Crime   20390000   64497208  \n",
              "3  Adventure, Animation, Comedy, Family, Fantasy  100000000  119559110  \n",
              "4   Adventure, Animation, Drama, Family, Fantasy   25200000   66465461  "
            ],
            "text/html": [
              "\n",
              "  <div id=\"df-9e459fac-16bd-43ee-99c0-9280050b94d0\" class=\"colab-df-container\">\n",
              "    <div>\n",
              "<style scoped>\n",
              "    .dataframe tbody tr th:only-of-type {\n",
              "        vertical-align: middle;\n",
              "    }\n",
              "\n",
              "    .dataframe tbody tr th {\n",
              "        vertical-align: top;\n",
              "    }\n",
              "\n",
              "    .dataframe thead th {\n",
              "        text-align: right;\n",
              "    }\n",
              "</style>\n",
              "<table border=\"1\" class=\"dataframe\">\n",
              "  <thead>\n",
              "    <tr style=\"text-align: right;\">\n",
              "      <th></th>\n",
              "      <th>title</th>\n",
              "      <th>release_month</th>\n",
              "      <th>runtimeMinutes</th>\n",
              "      <th>genre</th>\n",
              "      <th>budget</th>\n",
              "      <th>revenue</th>\n",
              "    </tr>\n",
              "  </thead>\n",
              "  <tbody>\n",
              "    <tr>\n",
              "      <th>0</th>\n",
              "      <td>Once Upon a Time... in Hollywood</td>\n",
              "      <td>July</td>\n",
              "      <td>161</td>\n",
              "      <td>Comedy, Drama, Thriller</td>\n",
              "      <td>95000000</td>\n",
              "      <td>392105159</td>\n",
              "    </tr>\n",
              "    <tr>\n",
              "      <th>1</th>\n",
              "      <td>Pain and Glory</td>\n",
              "      <td>March</td>\n",
              "      <td>113</td>\n",
              "      <td>Drama</td>\n",
              "      <td>10769016</td>\n",
              "      <td>37359689</td>\n",
              "    </tr>\n",
              "    <tr>\n",
              "      <th>2</th>\n",
              "      <td>Taxi 5</td>\n",
              "      <td>January</td>\n",
              "      <td>102</td>\n",
              "      <td>Action, Comedy, Crime</td>\n",
              "      <td>20390000</td>\n",
              "      <td>64497208</td>\n",
              "    </tr>\n",
              "    <tr>\n",
              "      <th>3</th>\n",
              "      <td>Wonder Park</td>\n",
              "      <td>March</td>\n",
              "      <td>85</td>\n",
              "      <td>Adventure, Animation, Comedy, Family, Fantasy</td>\n",
              "      <td>100000000</td>\n",
              "      <td>119559110</td>\n",
              "    </tr>\n",
              "    <tr>\n",
              "      <th>4</th>\n",
              "      <td>The King of Kings</td>\n",
              "      <td>April</td>\n",
              "      <td>103</td>\n",
              "      <td>Adventure, Animation, Drama, Family, Fantasy</td>\n",
              "      <td>25200000</td>\n",
              "      <td>66465461</td>\n",
              "    </tr>\n",
              "  </tbody>\n",
              "</table>\n",
              "</div>\n",
              "    <div class=\"colab-df-buttons\">\n",
              "\n",
              "  <div class=\"colab-df-container\">\n",
              "    <button class=\"colab-df-convert\" onclick=\"convertToInteractive('df-9e459fac-16bd-43ee-99c0-9280050b94d0')\"\n",
              "            title=\"Convert this dataframe to an interactive table.\"\n",
              "            style=\"display:none;\">\n",
              "\n",
              "  <svg xmlns=\"http://www.w3.org/2000/svg\" height=\"24px\" viewBox=\"0 -960 960 960\">\n",
              "    <path d=\"M120-120v-720h720v720H120Zm60-500h600v-160H180v160Zm220 220h160v-160H400v160Zm0 220h160v-160H400v160ZM180-400h160v-160H180v160Zm440 0h160v-160H620v160ZM180-180h160v-160H180v160Zm440 0h160v-160H620v160Z\"/>\n",
              "  </svg>\n",
              "    </button>\n",
              "\n",
              "  <style>\n",
              "    .colab-df-container {\n",
              "      display:flex;\n",
              "      gap: 12px;\n",
              "    }\n",
              "\n",
              "    .colab-df-convert {\n",
              "      background-color: #E8F0FE;\n",
              "      border: none;\n",
              "      border-radius: 50%;\n",
              "      cursor: pointer;\n",
              "      display: none;\n",
              "      fill: #1967D2;\n",
              "      height: 32px;\n",
              "      padding: 0 0 0 0;\n",
              "      width: 32px;\n",
              "    }\n",
              "\n",
              "    .colab-df-convert:hover {\n",
              "      background-color: #E2EBFA;\n",
              "      box-shadow: 0px 1px 2px rgba(60, 64, 67, 0.3), 0px 1px 3px 1px rgba(60, 64, 67, 0.15);\n",
              "      fill: #174EA6;\n",
              "    }\n",
              "\n",
              "    .colab-df-buttons div {\n",
              "      margin-bottom: 4px;\n",
              "    }\n",
              "\n",
              "    [theme=dark] .colab-df-convert {\n",
              "      background-color: #3B4455;\n",
              "      fill: #D2E3FC;\n",
              "    }\n",
              "\n",
              "    [theme=dark] .colab-df-convert:hover {\n",
              "      background-color: #434B5C;\n",
              "      box-shadow: 0px 1px 3px 1px rgba(0, 0, 0, 0.15);\n",
              "      filter: drop-shadow(0px 1px 2px rgba(0, 0, 0, 0.3));\n",
              "      fill: #FFFFFF;\n",
              "    }\n",
              "  </style>\n",
              "\n",
              "    <script>\n",
              "      const buttonEl =\n",
              "        document.querySelector('#df-9e459fac-16bd-43ee-99c0-9280050b94d0 button.colab-df-convert');\n",
              "      buttonEl.style.display =\n",
              "        google.colab.kernel.accessAllowed ? 'block' : 'none';\n",
              "\n",
              "      async function convertToInteractive(key) {\n",
              "        const element = document.querySelector('#df-9e459fac-16bd-43ee-99c0-9280050b94d0');\n",
              "        const dataTable =\n",
              "          await google.colab.kernel.invokeFunction('convertToInteractive',\n",
              "                                                    [key], {});\n",
              "        if (!dataTable) return;\n",
              "\n",
              "        const docLinkHtml = 'Like what you see? Visit the ' +\n",
              "          '<a target=\"_blank\" href=https://colab.research.google.com/notebooks/data_table.ipynb>data table notebook</a>'\n",
              "          + ' to learn more about interactive tables.';\n",
              "        element.innerHTML = '';\n",
              "        dataTable['output_type'] = 'display_data';\n",
              "        await google.colab.output.renderOutput(dataTable, element);\n",
              "        const docLink = document.createElement('div');\n",
              "        docLink.innerHTML = docLinkHtml;\n",
              "        element.appendChild(docLink);\n",
              "      }\n",
              "    </script>\n",
              "  </div>\n",
              "\n",
              "\n",
              "    <div id=\"df-d8b3b479-b965-4c71-8a8b-4b47f7e09840\">\n",
              "      <button class=\"colab-df-quickchart\" onclick=\"quickchart('df-d8b3b479-b965-4c71-8a8b-4b47f7e09840')\"\n",
              "                title=\"Suggest charts\"\n",
              "                style=\"display:none;\">\n",
              "\n",
              "<svg xmlns=\"http://www.w3.org/2000/svg\" height=\"24px\"viewBox=\"0 0 24 24\"\n",
              "     width=\"24px\">\n",
              "    <g>\n",
              "        <path d=\"M19 3H5c-1.1 0-2 .9-2 2v14c0 1.1.9 2 2 2h14c1.1 0 2-.9 2-2V5c0-1.1-.9-2-2-2zM9 17H7v-7h2v7zm4 0h-2V7h2v10zm4 0h-2v-4h2v4z\"/>\n",
              "    </g>\n",
              "</svg>\n",
              "      </button>\n",
              "\n",
              "<style>\n",
              "  .colab-df-quickchart {\n",
              "      --bg-color: #E8F0FE;\n",
              "      --fill-color: #1967D2;\n",
              "      --hover-bg-color: #E2EBFA;\n",
              "      --hover-fill-color: #174EA6;\n",
              "      --disabled-fill-color: #AAA;\n",
              "      --disabled-bg-color: #DDD;\n",
              "  }\n",
              "\n",
              "  [theme=dark] .colab-df-quickchart {\n",
              "      --bg-color: #3B4455;\n",
              "      --fill-color: #D2E3FC;\n",
              "      --hover-bg-color: #434B5C;\n",
              "      --hover-fill-color: #FFFFFF;\n",
              "      --disabled-bg-color: #3B4455;\n",
              "      --disabled-fill-color: #666;\n",
              "  }\n",
              "\n",
              "  .colab-df-quickchart {\n",
              "    background-color: var(--bg-color);\n",
              "    border: none;\n",
              "    border-radius: 50%;\n",
              "    cursor: pointer;\n",
              "    display: none;\n",
              "    fill: var(--fill-color);\n",
              "    height: 32px;\n",
              "    padding: 0;\n",
              "    width: 32px;\n",
              "  }\n",
              "\n",
              "  .colab-df-quickchart:hover {\n",
              "    background-color: var(--hover-bg-color);\n",
              "    box-shadow: 0 1px 2px rgba(60, 64, 67, 0.3), 0 1px 3px 1px rgba(60, 64, 67, 0.15);\n",
              "    fill: var(--button-hover-fill-color);\n",
              "  }\n",
              "\n",
              "  .colab-df-quickchart-complete:disabled,\n",
              "  .colab-df-quickchart-complete:disabled:hover {\n",
              "    background-color: var(--disabled-bg-color);\n",
              "    fill: var(--disabled-fill-color);\n",
              "    box-shadow: none;\n",
              "  }\n",
              "\n",
              "  .colab-df-spinner {\n",
              "    border: 2px solid var(--fill-color);\n",
              "    border-color: transparent;\n",
              "    border-bottom-color: var(--fill-color);\n",
              "    animation:\n",
              "      spin 1s steps(1) infinite;\n",
              "  }\n",
              "\n",
              "  @keyframes spin {\n",
              "    0% {\n",
              "      border-color: transparent;\n",
              "      border-bottom-color: var(--fill-color);\n",
              "      border-left-color: var(--fill-color);\n",
              "    }\n",
              "    20% {\n",
              "      border-color: transparent;\n",
              "      border-left-color: var(--fill-color);\n",
              "      border-top-color: var(--fill-color);\n",
              "    }\n",
              "    30% {\n",
              "      border-color: transparent;\n",
              "      border-left-color: var(--fill-color);\n",
              "      border-top-color: var(--fill-color);\n",
              "      border-right-color: var(--fill-color);\n",
              "    }\n",
              "    40% {\n",
              "      border-color: transparent;\n",
              "      border-right-color: var(--fill-color);\n",
              "      border-top-color: var(--fill-color);\n",
              "    }\n",
              "    60% {\n",
              "      border-color: transparent;\n",
              "      border-right-color: var(--fill-color);\n",
              "    }\n",
              "    80% {\n",
              "      border-color: transparent;\n",
              "      border-right-color: var(--fill-color);\n",
              "      border-bottom-color: var(--fill-color);\n",
              "    }\n",
              "    90% {\n",
              "      border-color: transparent;\n",
              "      border-bottom-color: var(--fill-color);\n",
              "    }\n",
              "  }\n",
              "</style>\n",
              "\n",
              "      <script>\n",
              "        async function quickchart(key) {\n",
              "          const quickchartButtonEl =\n",
              "            document.querySelector('#' + key + ' button');\n",
              "          quickchartButtonEl.disabled = true;  // To prevent multiple clicks.\n",
              "          quickchartButtonEl.classList.add('colab-df-spinner');\n",
              "          try {\n",
              "            const charts = await google.colab.kernel.invokeFunction(\n",
              "                'suggestCharts', [key], {});\n",
              "          } catch (error) {\n",
              "            console.error('Error during call to suggestCharts:', error);\n",
              "          }\n",
              "          quickchartButtonEl.classList.remove('colab-df-spinner');\n",
              "          quickchartButtonEl.classList.add('colab-df-quickchart-complete');\n",
              "        }\n",
              "        (() => {\n",
              "          let quickchartButtonEl =\n",
              "            document.querySelector('#df-d8b3b479-b965-4c71-8a8b-4b47f7e09840 button');\n",
              "          quickchartButtonEl.style.display =\n",
              "            google.colab.kernel.accessAllowed ? 'block' : 'none';\n",
              "        })();\n",
              "      </script>\n",
              "    </div>\n",
              "\n",
              "    </div>\n",
              "  </div>\n"
            ],
            "application/vnd.google.colaboratory.intrinsic+json": {
              "type": "dataframe",
              "variable_name": "movie_df",
              "summary": "{\n  \"name\": \"movie_df\",\n  \"rows\": 1373,\n  \"fields\": [\n    {\n      \"column\": \"title\",\n      \"properties\": {\n        \"dtype\": \"string\",\n        \"num_unique_values\": 1363,\n        \"samples\": [\n          \"El Conde\",\n          \"John Wick: Chapter 4\",\n          \"Freakier Friday\"\n        ],\n        \"semantic_type\": \"\",\n        \"description\": \"\"\n      }\n    },\n    {\n      \"column\": \"release_month\",\n      \"properties\": {\n        \"dtype\": \"category\",\n        \"num_unique_values\": 12,\n        \"samples\": [\n          \"February\",\n          \"December\",\n          \"July\"\n        ],\n        \"semantic_type\": \"\",\n        \"description\": \"\"\n      }\n    },\n    {\n      \"column\": \"runtimeMinutes\",\n      \"properties\": {\n        \"dtype\": \"number\",\n        \"std\": 23,\n        \"min\": 53,\n        \"max\": 242,\n        \"num_unique_values\": 119,\n        \"samples\": [\n          132,\n          166,\n          103\n        ],\n        \"semantic_type\": \"\",\n        \"description\": \"\"\n      }\n    },\n    {\n      \"column\": \"genre\",\n      \"properties\": {\n        \"dtype\": \"category\",\n        \"num_unique_values\": 443,\n        \"samples\": [\n          \"Comedy, Drama, Fantasy, Horror\",\n          \"Adventure, Animation, Comedy, Family, Fantasy, Mystery\",\n          \"Action, Adventure, Comedy, Fantasy, Science Fiction\"\n        ],\n        \"semantic_type\": \"\",\n        \"description\": \"\"\n      }\n    },\n    {\n      \"column\": \"budget\",\n      \"properties\": {\n        \"dtype\": \"number\",\n        \"std\": 59216408,\n        \"min\": 1,\n        \"max\": 583900000,\n        \"num_unique_values\": 389,\n        \"samples\": [\n          8300000,\n          68000000,\n          77000000\n        ],\n        \"semantic_type\": \"\",\n        \"description\": \"\"\n      }\n    },\n    {\n      \"column\": \"revenue\",\n      \"properties\": {\n        \"dtype\": \"number\",\n        \"std\": 247438601,\n        \"min\": 0,\n        \"max\": 2799439100,\n        \"num_unique_values\": 1101,\n        \"samples\": [\n          51896264,\n          436388866,\n          45400000\n        ],\n        \"semantic_type\": \"\",\n        \"description\": \"\"\n      }\n    }\n  ]\n}"
            }
          },
          "metadata": {},
          "execution_count": 5
        }
      ]
    },
    {
      "cell_type": "markdown",
      "source": [
        "**CONVERTING GENRE TO ONE HOT ENCODING**"
      ],
      "metadata": {
        "id": "6LO8P23W5aVy"
      }
    },
    {
      "cell_type": "code",
      "source": [
        "#split the genres into lists\n",
        "movie_df['genre'] = movie_df['genre'].str.split(',')\n",
        "\n",
        "mlb = MultiLabelBinarizer()\n",
        "genre_encoded = pd.DataFrame(mlb.fit_transform(movie_df['genre']), columns=mlb.classes_, index=movie_df.index)"
      ],
      "metadata": {
        "colab": {
          "base_uri": "https://localhost:8080/"
        },
        "id": "cbhqagaa581O",
        "outputId": "54fd2582-ed9b-45bc-9374-8e833b62b52d"
      },
      "execution_count": null,
      "outputs": [
        {
          "output_type": "stream",
          "name": "stderr",
          "text": [
            "/tmp/ipython-input-3359392152.py:2: SettingWithCopyWarning: \n",
            "A value is trying to be set on a copy of a slice from a DataFrame.\n",
            "Try using .loc[row_indexer,col_indexer] = value instead\n",
            "\n",
            "See the caveats in the documentation: https://pandas.pydata.org/pandas-docs/stable/user_guide/indexing.html#returning-a-view-versus-a-copy\n",
            "  movie_df['genre'] = movie_df['genre'].str.split(',')\n"
          ]
        }
      ]
    },
    {
      "cell_type": "code",
      "source": [
        "#combine with original dataframe\n",
        "movie_df = pd.concat([movie_df, genre_encoded], axis=1)"
      ],
      "metadata": {
        "id": "EvUg4iFiBgYM"
      },
      "execution_count": null,
      "outputs": []
    },
    {
      "cell_type": "markdown",
      "source": [
        "**CONVERTING MONTHS TO ONE HOT ENCODING**"
      ],
      "metadata": {
        "id": "iJkmcLUTFd0q"
      }
    },
    {
      "cell_type": "code",
      "source": [
        "# One-hot encode the release month\n",
        "month_encoded = pd.get_dummies(movie_df['release_month'], prefix='Month')\n",
        "\n",
        "# Add back to the original dataframe\n",
        "movie_df = pd.concat([movie_df, month_encoded], axis=1)"
      ],
      "metadata": {
        "id": "qmgUJVDwFjLi"
      },
      "execution_count": null,
      "outputs": []
    },
    {
      "cell_type": "markdown",
      "source": [
        "## **DATA EXPLORATION USING ALGORITHMS**"
      ],
      "metadata": {
        "id": "UgpBBvMfJ74l"
      }
    },
    {
      "cell_type": "code",
      "source": [
        "movie_df.columns"
      ],
      "metadata": {
        "colab": {
          "base_uri": "https://localhost:8080/"
        },
        "id": "mSVEuhVtEy2F",
        "outputId": "2e8832dc-8493-4177-910b-36ae8428e489"
      },
      "execution_count": null,
      "outputs": [
        {
          "output_type": "execute_result",
          "data": {
            "text/plain": [
              "Index(['title', 'release_month', 'runtimeMinutes', 'genre', 'budget',\n",
              "       'revenue', ' Adventure', ' Animation', ' Biography', ' Comedy',\n",
              "       ' Crime', ' Documentary', ' Drama', ' Family', ' Fantasy', ' History',\n",
              "       ' Horror', ' Music', ' Musical', ' Mystery', ' Romance', ' Sci-Fi',\n",
              "       ' Science Fiction', ' Sport', ' Thriller', ' Tv Movie', ' War',\n",
              "       ' Western', 'Action', 'Adventure', 'Animation', 'Biography', 'Comedy',\n",
              "       'Crime', 'Documentary', 'Drama', 'Fantasy', 'Horror', 'Mystery',\n",
              "       'Sci-Fi', 'Thriller', 'Month_April', 'Month_August', 'Month_December',\n",
              "       'Month_February', 'Month_January', 'Month_July', 'Month_June',\n",
              "       'Month_March', 'Month_May', 'Month_November', 'Month_October',\n",
              "       'Month_September'],\n",
              "      dtype='object')"
            ]
          },
          "metadata": {},
          "execution_count": 9
        }
      ]
    },
    {
      "cell_type": "markdown",
      "source": [
        "So to cluster the movies using the features (with emphasis on how block boster, and other movies are released)."
      ],
      "metadata": {
        "id": "BcPvUD4zoJG-"
      }
    },
    {
      "cell_type": "code",
      "source": [
        "#setting columns i want to find the clusters\n",
        "df = movie_df[['revenue','budget', ' Adventure', ' Animation', ' Biography', ' Comedy',\n",
        "       ' Crime', ' Documentary', ' Drama', ' Family', ' Fantasy', ' History',\n",
        "       ' Horror', ' Music', ' Musical', ' Mystery', ' Romance', ' Sci-Fi',\n",
        "       ' Science Fiction', ' Sport', ' Thriller', ' Tv Movie', ' War',\n",
        "       ' Western', 'Action', 'Adventure', 'Animation', 'Biography', 'Comedy',\n",
        "       'Crime', 'Documentary', 'Drama', 'Fantasy', 'Horror', 'Mystery',\n",
        "       'Sci-Fi', 'Thriller', 'Month_April', 'Month_August', 'Month_December',\n",
        "       'Month_February', 'Month_January', 'Month_July', 'Month_June',\n",
        "       'Month_March', 'Month_May', 'Month_November', 'Month_October',\n",
        "       'Month_September']]"
      ],
      "metadata": {
        "id": "J-q2SV4AEpDA"
      },
      "execution_count": null,
      "outputs": []
    },
    {
      "cell_type": "markdown",
      "source": [
        "### **KMEANS ALGORITHM**"
      ],
      "metadata": {
        "id": "YnTT_MoyIEkz"
      }
    },
    {
      "cell_type": "markdown",
      "source": [
        "**SCALING THE REVENUE AND BUDGET**"
      ],
      "metadata": {
        "id": "pGil9aeIo0F1"
      }
    },
    {
      "cell_type": "code",
      "source": [
        "#scaling numeric features (to expose the outliers clearly)\n",
        "scaler = StandardScaler()\n",
        "df_scaled = df.copy()\n",
        "df_scaled[['revenue', 'budget']] = scaler.fit_transform(df_scaled[['revenue', 'budget']])"
      ],
      "metadata": {
        "id": "8GDxiSdnJnRh"
      },
      "execution_count": null,
      "outputs": []
    },
    {
      "cell_type": "code",
      "source": [
        "print(df_scaled)\n"
      ],
      "metadata": {
        "colab": {
          "base_uri": "https://localhost:8080/"
        },
        "id": "LX_0TyIINFg7",
        "outputId": "9b5fce56-4012-4beb-94e1-c715dadde85a"
      },
      "execution_count": null,
      "outputs": [
        {
          "output_type": "stream",
          "name": "stdout",
          "text": [
            "       revenue    budget   Adventure   Animation   Biography   Comedy   Crime  \\\n",
            "0     1.165293  0.894435           0           0           0        0       0   \n",
            "1    -0.268900 -0.528509           0           0           0        0       0   \n",
            "2    -0.159187 -0.365979           0           0           0        1       1   \n",
            "3     0.063422  0.978902           0           1           0        1       0   \n",
            "4    -0.151229 -0.284721           0           1           0        0       0   \n",
            "...        ...       ...         ...         ...         ...      ...     ...   \n",
            "1368 -0.419941 -0.486212           0           0           0        0       0   \n",
            "1369 -0.419941 -0.709505           0           0           0        0       0   \n",
            "1370 -0.349743 -0.659754           0           0           0        0       0   \n",
            "1371 -0.419941 -0.710181           0           0           0        1       0   \n",
            "1372 -0.419941 -0.709826           1           0           0        1       0   \n",
            "\n",
            "       Documentary   Drama   Family  ...  Month_December  Month_February  \\\n",
            "0                0       1        0  ...           False           False   \n",
            "1                0       0        0  ...           False           False   \n",
            "2                0       0        0  ...           False           False   \n",
            "3                0       0        1  ...           False           False   \n",
            "4                0       1        1  ...           False           False   \n",
            "...            ...     ...      ...  ...             ...             ...   \n",
            "1368             0       1        0  ...           False           False   \n",
            "1369             0       0        0  ...           False           False   \n",
            "1370             0       0        0  ...           False           False   \n",
            "1371             1       1        0  ...           False           False   \n",
            "1372             0       0        0  ...           False           False   \n",
            "\n",
            "      Month_January  Month_July  Month_June  Month_March  Month_May  \\\n",
            "0             False        True       False        False      False   \n",
            "1             False       False       False         True      False   \n",
            "2              True       False       False        False      False   \n",
            "3             False       False       False         True      False   \n",
            "4             False       False       False        False      False   \n",
            "...             ...         ...         ...          ...        ...   \n",
            "1368          False       False       False        False      False   \n",
            "1369          False       False       False        False      False   \n",
            "1370          False       False       False        False      False   \n",
            "1371          False       False       False         True      False   \n",
            "1372          False       False       False        False      False   \n",
            "\n",
            "      Month_November  Month_October  Month_September  \n",
            "0              False          False            False  \n",
            "1              False          False            False  \n",
            "2              False          False            False  \n",
            "3              False          False            False  \n",
            "4              False          False            False  \n",
            "...              ...            ...              ...  \n",
            "1368           False          False             True  \n",
            "1369           False          False             True  \n",
            "1370           False          False            False  \n",
            "1371           False          False            False  \n",
            "1372           False          False             True  \n",
            "\n",
            "[1373 rows x 49 columns]\n"
          ]
        }
      ]
    },
    {
      "cell_type": "markdown",
      "source": [
        "Scaling instead of minmax to properly visualize the outliers (block buster movies)"
      ],
      "metadata": {
        "id": "b9wPBs26oddm"
      }
    },
    {
      "cell_type": "markdown",
      "source": [
        "**APPLYING KMEANS ALGORITHM**"
      ],
      "metadata": {
        "id": "qst-NZoWo6Ck"
      }
    },
    {
      "cell_type": "code",
      "source": [
        "#applying kmeans algorithm\n",
        "kmeans = KMeans(n_clusters=3, random_state=42)\n",
        "movie_df['cluster'] = kmeans.fit_predict(df_scaled)"
      ],
      "metadata": {
        "id": "MpVJKfGqIELk"
      },
      "execution_count": null,
      "outputs": []
    },
    {
      "cell_type": "code",
      "source": [
        "print(movie_df[['title', 'revenue', 'cluster']])"
      ],
      "metadata": {
        "colab": {
          "base_uri": "https://localhost:8080/"
        },
        "id": "EIVrSokKKYzS",
        "outputId": "31dcc5da-c708-49a2-c980-bac9114650f3"
      },
      "execution_count": null,
      "outputs": [
        {
          "output_type": "stream",
          "name": "stdout",
          "text": [
            "                                 title    revenue  cluster\n",
            "0     Once Upon a Time... in Hollywood  392105159        0\n",
            "1                       Pain and Glory   37359689        1\n",
            "2                               Taxi 5   64497208        1\n",
            "3                          Wonder Park  119559110        1\n",
            "4                    The King of Kings   66465461        0\n",
            "...                                ...        ...      ...\n",
            "1368                       Io Capitano          0        0\n",
            "1369                         The Dunes          0        1\n",
            "1370                              Fall   17363261        1\n",
            "1371         Glossary of Broken Dreams          0        0\n",
            "1372                  The VelociPastor          0        1\n",
            "\n",
            "[1373 rows x 3 columns]\n"
          ]
        }
      ]
    },
    {
      "cell_type": "code",
      "source": [
        "#inspecting cluster by their average\n",
        "cluster_avg = movie_df.groupby('cluster')['revenue'].mean()\n",
        "print(cluster_avg)"
      ],
      "metadata": {
        "colab": {
          "base_uri": "https://localhost:8080/"
        },
        "id": "JxAZyJc8KkaM",
        "outputId": "59a9fdb4-5133-481f-d8e0-4e776da40f21"
      },
      "execution_count": null,
      "outputs": [
        {
          "output_type": "stream",
          "name": "stdout",
          "text": [
            "cluster\n",
            "0    3.439339e+07\n",
            "1    4.862925e+07\n",
            "2    6.144514e+08\n",
            "Name: revenue, dtype: float64\n"
          ]
        }
      ]
    },
    {
      "cell_type": "code",
      "source": [
        "#find cluster with higest average revenue\n",
        "highest_avg_cluster = cluster_avg.idxmax()\n",
        "\n",
        "#subset the dataframe\n",
        "high_rev_movies = movie_df[movie_df['cluster'] == highest_avg_cluster]\n",
        "\n",
        "print(f'Cluster with the highest average revenue: {highest_avg_cluster}')"
      ],
      "metadata": {
        "colab": {
          "base_uri": "https://localhost:8080/"
        },
        "id": "MpBoJbTmLGOj",
        "outputId": "e9c1a4c6-c7d4-4f34-d6eb-3dd4ca87eef2"
      },
      "execution_count": null,
      "outputs": [
        {
          "output_type": "stream",
          "name": "stdout",
          "text": [
            "Cluster with the highest average revenue: 2\n"
          ]
        }
      ]
    },
    {
      "cell_type": "code",
      "source": [
        "#visualizing the clusters\n",
        "plt.scatter(movie_df['budget'], movie_df['revenue'], c=movie_df['cluster'], cmap='rainbow')\n",
        "plt.xlabel('Budget')\n",
        "plt.ylabel('Revenue')\n",
        "plt.title('K-Means Clustering of Movies')\n",
        "plt.show()"
      ],
      "metadata": {
        "colab": {
          "base_uri": "https://localhost:8080/",
          "height": 472
        },
        "id": "pqKXXtZ_Izve",
        "outputId": "3978a370-cbe2-4ae4-b2da-c95973c8d341"
      },
      "execution_count": null,
      "outputs": [
        {
          "output_type": "display_data",
          "data": {
            "text/plain": [
              "<Figure size 640x480 with 1 Axes>"
            ],
            "image/png": "[encoded data removed]"
          },
          "metadata": {}
        }
      ]
    },
    {
      "cell_type": "markdown",
      "source": [
        "From the visualization, we can see the outliers very clearly as very large values where grouped into one cluster.\n",
        "\n",
        "Analyzing only cluster 2 (high earning movies or outliers in this case). Hence we can drop budget and revenue since we already know they have high in both and association rule does not accept partial values(must be 1 0r 0, true or false)"
      ],
      "metadata": {
        "id": "7BNgxsb9Mjxc"
      }
    },
    {
      "cell_type": "markdown",
      "source": [
        "### **ASSOCIATION RULE MINING**"
      ],
      "metadata": {
        "id": "l2m4QBRGo_WW"
      }
    },
    {
      "cell_type": "markdown",
      "source": [
        "**HANDLING OUTLIERS FIRST (HIGH BUDGET AND REVENUE MOVIE)**\n",
        "\n",
        "To determine the studio release for genres according to month"
      ],
      "metadata": {
        "id": "VjczRU9fXX4C"
      }
    },
    {
      "cell_type": "code",
      "source": [
        "#obtaining only features already encoded\n",
        "rule_feature_1 = df_scaled.loc[high_rev_movies.index]\n",
        "\n",
        "#removing budget and revenue\n",
        "rule_feature_1 = rule_feature_1.drop(columns=['budget', 'revenue'])\n",
        "rule_feature_1. head()"
      ],
      "metadata": {
        "colab": {
          "base_uri": "https://localhost:8080/",
          "height": 255
        },
        "id": "_ZPNChuXREhD",
        "outputId": "06ee37f4-3436-447d-9020-04c1cc856f3d"
      },
      "execution_count": null,
      "outputs": [
        {
          "output_type": "execute_result",
          "data": {
            "text/plain": [
              "     Adventure   Animation   Biography   Comedy   Crime   Documentary   Drama  \\\n",
              "8            1           0           0        0       0             0       0   \n",
              "10           1           0           0        1       0             0       0   \n",
              "11           1           0           0        1       0             0       0   \n",
              "12           0           0           0        0       0             0       1   \n",
              "14           1           0           0        0       0             0       0   \n",
              "\n",
              "     Family   Fantasy   History  ...  Month_December  Month_February  \\\n",
              "8         0         0         0  ...           False           False   \n",
              "10        1         0         0  ...           False           False   \n",
              "11        1         0         0  ...            True           False   \n",
              "12        0         0         0  ...           False           False   \n",
              "14        0         0         0  ...           False           False   \n",
              "\n",
              "    Month_January  Month_July  Month_June  Month_March  Month_May  \\\n",
              "8           False       False       False        False      False   \n",
              "10          False       False       False        False       True   \n",
              "11          False       False       False        False      False   \n",
              "12          False       False       False        False       True   \n",
              "14          False        True       False        False      False   \n",
              "\n",
              "    Month_November  Month_October  Month_September  \n",
              "8            False           True            False  \n",
              "10           False          False            False  \n",
              "11           False          False            False  \n",
              "12           False          False            False  \n",
              "14           False          False            False  \n",
              "\n",
              "[5 rows x 47 columns]"
            ],
            "text/html": [
              "\n",
              "  <div id=\"df-f5b716b8-ff45-4dbb-8eb6-bc1dbf8b1402\" class=\"colab-df-container\">\n",
              "    <div>\n",
              "<style scoped>\n",
              "    .dataframe tbody tr th:only-of-type {\n",
              "        vertical-align: middle;\n",
              "    }\n",
              "\n",
              "    .dataframe tbody tr th {\n",
              "        vertical-align: top;\n",
              "    }\n",
              "\n",
              "    .dataframe thead th {\n",
              "        text-align: right;\n",
              "    }\n",
              "</style>\n",
              "<table border=\"1\" class=\"dataframe\">\n",
              "  <thead>\n",
              "    <tr style=\"text-align: right;\">\n",
              "      <th></th>\n",
              "      <th>Adventure</th>\n",
              "      <th>Animation</th>\n",
              "      <th>Biography</th>\n",
              "      <th>Comedy</th>\n",
              "      <th>Crime</th>\n",
              "      <th>Documentary</th>\n",
              "      <th>Drama</th>\n",
              "      <th>Family</th>\n",
              "      <th>Fantasy</th>\n",
              "      <th>History</th>\n",
              "      <th>...</th>\n",
              "      <th>Month_December</th>\n",
              "      <th>Month_February</th>\n",
              "      <th>Month_January</th>\n",
              "      <th>Month_July</th>\n",
              "      <th>Month_June</th>\n",
              "      <th>Month_March</th>\n",
              "      <th>Month_May</th>\n",
              "      <th>Month_November</th>\n",
              "      <th>Month_October</th>\n",
              "      <th>Month_September</th>\n",
              "    </tr>\n",
              "  </thead>\n",
              "  <tbody>\n",
              "    <tr>\n",
              "      <th>8</th>\n",
              "      <td>1</td>\n",
              "      <td>0</td>\n",
              "      <td>0</td>\n",
              "      <td>0</td>\n",
              "      <td>0</td>\n",
              "      <td>0</td>\n",
              "      <td>0</td>\n",
              "      <td>0</td>\n",
              "      <td>0</td>\n",
              "      <td>0</td>\n",
              "      <td>...</td>\n",
              "      <td>False</td>\n",
              "      <td>False</td>\n",
              "      <td>False</td>\n",
              "      <td>False</td>\n",
              "      <td>False</td>\n",
              "      <td>False</td>\n",
              "      <td>False</td>\n",
              "      <td>False</td>\n",
              "      <td>True</td>\n",
              "      <td>False</td>\n",
              "    </tr>\n",
              "    <tr>\n",
              "      <th>10</th>\n",
              "      <td>1</td>\n",
              "      <td>0</td>\n",
              "      <td>0</td>\n",
              "      <td>1</td>\n",
              "      <td>0</td>\n",
              "      <td>0</td>\n",
              "      <td>0</td>\n",
              "      <td>1</td>\n",
              "      <td>0</td>\n",
              "      <td>0</td>\n",
              "      <td>...</td>\n",
              "      <td>False</td>\n",
              "      <td>False</td>\n",
              "      <td>False</td>\n",
              "      <td>False</td>\n",
              "      <td>False</td>\n",
              "      <td>False</td>\n",
              "      <td>True</td>\n",
              "      <td>False</td>\n",
              "      <td>False</td>\n",
              "      <td>False</td>\n",
              "    </tr>\n",
              "    <tr>\n",
              "      <th>11</th>\n",
              "      <td>1</td>\n",
              "      <td>0</td>\n",
              "      <td>0</td>\n",
              "      <td>1</td>\n",
              "      <td>0</td>\n",
              "      <td>0</td>\n",
              "      <td>0</td>\n",
              "      <td>1</td>\n",
              "      <td>0</td>\n",
              "      <td>0</td>\n",
              "      <td>...</td>\n",
              "      <td>True</td>\n",
              "      <td>False</td>\n",
              "      <td>False</td>\n",
              "      <td>False</td>\n",
              "      <td>False</td>\n",
              "      <td>False</td>\n",
              "      <td>False</td>\n",
              "      <td>False</td>\n",
              "      <td>False</td>\n",
              "      <td>False</td>\n",
              "    </tr>\n",
              "    <tr>\n",
              "      <th>12</th>\n",
              "      <td>0</td>\n",
              "      <td>0</td>\n",
              "      <td>0</td>\n",
              "      <td>0</td>\n",
              "      <td>0</td>\n",
              "      <td>0</td>\n",
              "      <td>1</td>\n",
              "      <td>0</td>\n",
              "      <td>0</td>\n",
              "      <td>0</td>\n",
              "      <td>...</td>\n",
              "      <td>False</td>\n",
              "      <td>False</td>\n",
              "      <td>False</td>\n",
              "      <td>False</td>\n",
              "      <td>False</td>\n",
              "      <td>False</td>\n",
              "      <td>True</td>\n",
              "      <td>False</td>\n",
              "      <td>False</td>\n",
              "      <td>False</td>\n",
              "    </tr>\n",
              "    <tr>\n",
              "      <th>14</th>\n",
              "      <td>1</td>\n",
              "      <td>0</td>\n",
              "      <td>0</td>\n",
              "      <td>0</td>\n",
              "      <td>0</td>\n",
              "      <td>0</td>\n",
              "      <td>0</td>\n",
              "      <td>0</td>\n",
              "      <td>0</td>\n",
              "      <td>0</td>\n",
              "      <td>...</td>\n",
              "      <td>False</td>\n",
              "      <td>False</td>\n",
              "      <td>False</td>\n",
              "      <td>True</td>\n",
              "      <td>False</td>\n",
              "      <td>False</td>\n",
              "      <td>False</td>\n",
              "      <td>False</td>\n",
              "      <td>False</td>\n",
              "      <td>False</td>\n",
              "    </tr>\n",
              "  </tbody>\n",
              "</table>\n",
              "<p>5 rows × 47 columns</p>\n",
              "</div>\n",
              "    <div class=\"colab-df-buttons\">\n",
              "\n",
              "  <div class=\"colab-df-container\">\n",
              "    <button class=\"colab-df-convert\" onclick=\"convertToInteractive('df-f5b716b8-ff45-4dbb-8eb6-bc1dbf8b1402')\"\n",
              "            title=\"Convert this dataframe to an interactive table.\"\n",
              "            style=\"display:none;\">\n",
              "\n",
              "  <svg xmlns=\"http://www.w3.org/2000/svg\" height=\"24px\" viewBox=\"0 -960 960 960\">\n",
              "    <path d=\"M120-120v-720h720v720H120Zm60-500h600v-160H180v160Zm220 220h160v-160H400v160Zm0 220h160v-160H400v160ZM180-400h160v-160H180v160Zm440 0h160v-160H620v160ZM180-180h160v-160H180v160Zm440 0h160v-160H620v160Z\"/>\n",
              "  </svg>\n",
              "    </button>\n",
              "\n",
              "  <style>\n",
              "    .colab-df-container {\n",
              "      display:flex;\n",
              "      gap: 12px;\n",
              "    }\n",
              "\n",
              "    .colab-df-convert {\n",
              "      background-color: #E8F0FE;\n",
              "      border: none;\n",
              "      border-radius: 50%;\n",
              "      cursor: pointer;\n",
              "      display: none;\n",
              "      fill: #1967D2;\n",
              "      height: 32px;\n",
              "      padding: 0 0 0 0;\n",
              "      width: 32px;\n",
              "    }\n",
              "\n",
              "    .colab-df-convert:hover {\n",
              "      background-color: #E2EBFA;\n",
              "      box-shadow: 0px 1px 2px rgba(60, 64, 67, 0.3), 0px 1px 3px 1px rgba(60, 64, 67, 0.15);\n",
              "      fill: #174EA6;\n",
              "    }\n",
              "\n",
              "    .colab-df-buttons div {\n",
              "      margin-bottom: 4px;\n",
              "    }\n",
              "\n",
              "    [theme=dark] .colab-df-convert {\n",
              "      background-color: #3B4455;\n",
              "      fill: #D2E3FC;\n",
              "    }\n",
              "\n",
              "    [theme=dark] .colab-df-convert:hover {\n",
              "      background-color: #434B5C;\n",
              "      box-shadow: 0px 1px 3px 1px rgba(0, 0, 0, 0.15);\n",
              "      filter: drop-shadow(0px 1px 2px rgba(0, 0, 0, 0.3));\n",
              "      fill: #FFFFFF;\n",
              "    }\n",
              "  </style>\n",
              "\n",
              "    <script>\n",
              "      const buttonEl =\n",
              "        document.querySelector('#df-f5b716b8-ff45-4dbb-8eb6-bc1dbf8b1402 button.colab-df-convert');\n",
              "      buttonEl.style.display =\n",
              "        google.colab.kernel.accessAllowed ? 'block' : 'none';\n",
              "\n",
              "      async function convertToInteractive(key) {\n",
              "        const element = document.querySelector('#df-f5b716b8-ff45-4dbb-8eb6-bc1dbf8b1402');\n",
              "        const dataTable =\n",
              "          await google.colab.kernel.invokeFunction('convertToInteractive',\n",
              "                                                    [key], {});\n",
              "        if (!dataTable) return;\n",
              "\n",
              "        const docLinkHtml = 'Like what you see? Visit the ' +\n",
              "          '<a target=\"_blank\" href=https://colab.research.google.com/notebooks/data_table.ipynb>data table notebook</a>'\n",
              "          + ' to learn more about interactive tables.';\n",
              "        element.innerHTML = '';\n",
              "        dataTable['output_type'] = 'display_data';\n",
              "        await google.colab.output.renderOutput(dataTable, element);\n",
              "        const docLink = document.createElement('div');\n",
              "        docLink.innerHTML = docLinkHtml;\n",
              "        element.appendChild(docLink);\n",
              "      }\n",
              "    </script>\n",
              "  </div>\n",
              "\n",
              "\n",
              "    <div id=\"df-d4e8348e-8a53-413d-b45c-49d73f0afa24\">\n",
              "      <button class=\"colab-df-quickchart\" onclick=\"quickchart('df-d4e8348e-8a53-413d-b45c-49d73f0afa24')\"\n",
              "                title=\"Suggest charts\"\n",
              "                style=\"display:none;\">\n",
              "\n",
              "<svg xmlns=\"http://www.w3.org/2000/svg\" height=\"24px\"viewBox=\"0 0 24 24\"\n",
              "     width=\"24px\">\n",
              "    <g>\n",
              "        <path d=\"M19 3H5c-1.1 0-2 .9-2 2v14c0 1.1.9 2 2 2h14c1.1 0 2-.9 2-2V5c0-1.1-.9-2-2-2zM9 17H7v-7h2v7zm4 0h-2V7h2v10zm4 0h-2v-4h2v4z\"/>\n",
              "    </g>\n",
              "</svg>\n",
              "      </button>\n",
              "\n",
              "<style>\n",
              "  .colab-df-quickchart {\n",
              "      --bg-color: #E8F0FE;\n",
              "      --fill-color: #1967D2;\n",
              "      --hover-bg-color: #E2EBFA;\n",
              "      --hover-fill-color: #174EA6;\n",
              "      --disabled-fill-color: #AAA;\n",
              "      --disabled-bg-color: #DDD;\n",
              "  }\n",
              "\n",
              "  [theme=dark] .colab-df-quickchart {\n",
              "      --bg-color: #3B4455;\n",
              "      --fill-color: #D2E3FC;\n",
              "      --hover-bg-color: #434B5C;\n",
              "      --hover-fill-color: #FFFFFF;\n",
              "      --disabled-bg-color: #3B4455;\n",
              "      --disabled-fill-color: #666;\n",
              "  }\n",
              "\n",
              "  .colab-df-quickchart {\n",
              "    background-color: var(--bg-color);\n",
              "    border: none;\n",
              "    border-radius: 50%;\n",
              "    cursor: pointer;\n",
              "    display: none;\n",
              "    fill: var(--fill-color);\n",
              "    height: 32px;\n",
              "    padding: 0;\n",
              "    width: 32px;\n",
              "  }\n",
              "\n",
              "  .colab-df-quickchart:hover {\n",
              "    background-color: var(--hover-bg-color);\n",
              "    box-shadow: 0 1px 2px rgba(60, 64, 67, 0.3), 0 1px 3px 1px rgba(60, 64, 67, 0.15);\n",
              "    fill: var(--button-hover-fill-color);\n",
              "  }\n",
              "\n",
              "  .colab-df-quickchart-complete:disabled,\n",
              "  .colab-df-quickchart-complete:disabled:hover {\n",
              "    background-color: var(--disabled-bg-color);\n",
              "    fill: var(--disabled-fill-color);\n",
              "    box-shadow: none;\n",
              "  }\n",
              "\n",
              "  .colab-df-spinner {\n",
              "    border: 2px solid var(--fill-color);\n",
              "    border-color: transparent;\n",
              "    border-bottom-color: var(--fill-color);\n",
              "    animation:\n",
              "      spin 1s steps(1) infinite;\n",
              "  }\n",
              "\n",
              "  @keyframes spin {\n",
              "    0% {\n",
              "      border-color: transparent;\n",
              "      border-bottom-color: var(--fill-color);\n",
              "      border-left-color: var(--fill-color);\n",
              "    }\n",
              "    20% {\n",
              "      border-color: transparent;\n",
              "      border-left-color: var(--fill-color);\n",
              "      border-top-color: var(--fill-color);\n",
              "    }\n",
              "    30% {\n",
              "      border-color: transparent;\n",
              "      border-left-color: var(--fill-color);\n",
              "      border-top-color: var(--fill-color);\n",
              "      border-right-color: var(--fill-color);\n",
              "    }\n",
              "    40% {\n",
              "      border-color: transparent;\n",
              "      border-right-color: var(--fill-color);\n",
              "      border-top-color: var(--fill-color);\n",
              "    }\n",
              "    60% {\n",
              "      border-color: transparent;\n",
              "      border-right-color: var(--fill-color);\n",
              "    }\n",
              "    80% {\n",
              "      border-color: transparent;\n",
              "      border-right-color: var(--fill-color);\n",
              "      border-bottom-color: var(--fill-color);\n",
              "    }\n",
              "    90% {\n",
              "      border-color: transparent;\n",
              "      border-bottom-color: var(--fill-color);\n",
              "    }\n",
              "  }\n",
              "</style>\n",
              "\n",
              "      <script>\n",
              "        async function quickchart(key) {\n",
              "          const quickchartButtonEl =\n",
              "            document.querySelector('#' + key + ' button');\n",
              "          quickchartButtonEl.disabled = true;  // To prevent multiple clicks.\n",
              "          quickchartButtonEl.classList.add('colab-df-spinner');\n",
              "          try {\n",
              "            const charts = await google.colab.kernel.invokeFunction(\n",
              "                'suggestCharts', [key], {});\n",
              "          } catch (error) {\n",
              "            console.error('Error during call to suggestCharts:', error);\n",
              "          }\n",
              "          quickchartButtonEl.classList.remove('colab-df-spinner');\n",
              "          quickchartButtonEl.classList.add('colab-df-quickchart-complete');\n",
              "        }\n",
              "        (() => {\n",
              "          let quickchartButtonEl =\n",
              "            document.querySelector('#df-d4e8348e-8a53-413d-b45c-49d73f0afa24 button');\n",
              "          quickchartButtonEl.style.display =\n",
              "            google.colab.kernel.accessAllowed ? 'block' : 'none';\n",
              "        })();\n",
              "      </script>\n",
              "    </div>\n",
              "\n",
              "    </div>\n",
              "  </div>\n"
            ],
            "application/vnd.google.colaboratory.intrinsic+json": {
              "type": "dataframe"
            }
          },
          "metadata": {},
          "execution_count": 18
        }
      ]
    },
    {
      "cell_type": "markdown",
      "source": [
        "**ASSOCIATION RULE MINING for outliers**"
      ],
      "metadata": {
        "id": "ExngO1uuVJl2"
      }
    },
    {
      "cell_type": "code",
      "source": [
        "#find frequent itemsets\n",
        "frequent_items = apriori(rule_feature_1, min_support=0.05, use_colnames=True)\n",
        "\n",
        "#extract rules\n",
        "rules = association_rules(frequent_items, metric='lift', min_threshold=1)\n",
        "\n",
        "\n",
        "rules = rules[rules['consequents'].apply(lambda x: all('Month' in item for item in x))]"
      ],
      "metadata": {
        "id": "fhPM9Eq5KASi",
        "colab": {
          "base_uri": "https://localhost:8080/"
        },
        "outputId": "aec144d9-89b3-4101-b424-71bfca92df8c"
      },
      "execution_count": null,
      "outputs": [
        {
          "output_type": "stream",
          "name": "stderr",
          "text": [
            "/usr/local/lib/python3.12/dist-packages/mlxtend/frequent_patterns/fpcommon.py:161: DeprecationWarning: DataFrames with non-bool types result in worse computationalperformance and their support might be discontinued in the future.Please use a DataFrame with bool type\n",
            "  warnings.warn(\n"
          ]
        }
      ]
    },
    {
      "cell_type": "code",
      "source": [
        "#sorting by lift\n",
        "rules = rules.sort_values(by='lift', ascending=False)\n",
        "print(rules[['antecedents', 'consequents', 'support', 'confidence', 'lift']])"
      ],
      "metadata": {
        "colab": {
          "base_uri": "https://localhost:8080/"
        },
        "id": "D929v0W-WYje",
        "outputId": "4df85812-cffc-46ea-8907-b7222555b53f"
      },
      "execution_count": null,
      "outputs": [
        {
          "output_type": "stream",
          "name": "stdout",
          "text": [
            "                                   antecedents       consequents   support  \\\n",
            "427           (Adventure,  Animation,  Comedy)      (Month_June)  0.054795   \n",
            "529  (Adventure,  Animation,  Family,  Comedy)      (Month_June)  0.054795   \n",
            "220                    (Adventure,  Animation)      (Month_June)  0.054795   \n",
            "455           (Adventure,  Animation,  Family)      (Month_June)  0.054795   \n",
            "208                      ( Animation,  Family)      (Month_June)  0.068493   \n",
            "399             ( Animation,  Family,  Comedy)      (Month_June)  0.054795   \n",
            "191                      ( Animation,  Comedy)      (Month_June)  0.054795   \n",
            "102                     ( Adventure,  Fantasy)  (Month_December)  0.061644   \n",
            "280                         (Action,  Fantasy)  (Month_December)  0.061644   \n",
            "333             (Action,  Adventure,  Fantasy)  (Month_December)  0.061644   \n",
            "484              (Adventure,  Family,  Comedy)      (Month_June)  0.054795   \n",
            "26                                ( Animation)      (Month_June)  0.068493   \n",
            "259                       (Adventure,  Comedy)      (Month_June)  0.054795   \n",
            "271                       (Adventure,  Family)      (Month_June)  0.054795   \n",
            "49                                  ( Fantasy)  (Month_December)  0.082192   \n",
            "68                                 (Adventure)      (Month_June)  0.054795   \n",
            "243                         ( Family,  Comedy)      (Month_June)  0.061644   \n",
            "44                                   ( Family)      (Month_June)  0.075342   \n",
            "39                                   ( Comedy)      (Month_June)  0.082192   \n",
            "10                                ( Adventure)  (Month_February)  0.054795   \n",
            "140                       (Action,  Adventure)  (Month_February)  0.054795   \n",
            "37                                   ( Comedy)      (Month_July)  0.054795   \n",
            "60                                    (Action)  (Month_February)  0.054795   \n",
            "35                                   ( Comedy)  (Month_December)  0.054795   \n",
            "64                                    (Action)     (Month_March)  0.082192   \n",
            "56                          ( Science Fiction)      (Month_June)  0.075342   \n",
            "63                                    (Action)      (Month_July)  0.095890   \n",
            "66                                    (Action)       (Month_May)  0.095890   \n",
            "162                       (Action,  Adventure)       (Month_May)  0.089041   \n",
            "148                       (Action,  Adventure)      (Month_July)  0.089041   \n",
            "13                                ( Adventure)      (Month_July)  0.089041   \n",
            "16                                ( Adventure)       (Month_May)  0.089041   \n",
            "136                       (Action,  Adventure)  (Month_December)  0.089041   \n",
            "9                                 ( Adventure)  (Month_December)  0.089041   \n",
            "14                                ( Adventure)     (Month_March)  0.068493   \n",
            "156                       (Action,  Adventure)     (Month_March)  0.068493   \n",
            "\n",
            "     confidence      lift  \n",
            "427    0.421053  2.794258  \n",
            "529    0.421053  2.794258  \n",
            "220    0.400000  2.654545  \n",
            "455    0.400000  2.654545  \n",
            "208    0.384615  2.552448  \n",
            "399    0.380952  2.528139  \n",
            "191    0.380952  2.528139  \n",
            "102    0.300000  2.433333  \n",
            "280    0.300000  2.433333  \n",
            "333    0.300000  2.433333  \n",
            "484    0.347826  2.308300  \n",
            "26     0.333333  2.212121  \n",
            "259    0.320000  2.123636  \n",
            "271    0.307692  2.041958  \n",
            "49     0.240000  1.946667  \n",
            "68     0.275862  1.830721  \n",
            "243    0.272727  1.809917  \n",
            "44     0.268293  1.780488  \n",
            "39     0.218182  1.447934  \n",
            "10     0.078431  1.272331  \n",
            "140    0.078431  1.272331  \n",
            "37     0.145455  1.249198  \n",
            "60     0.073394  1.190622  \n",
            "35     0.145455  1.179798  \n",
            "64     0.110092  1.148100  \n",
            "56     0.166667  1.106061  \n",
            "63     0.128440  1.103076  \n",
            "66     0.128440  1.103076  \n",
            "162    0.127451  1.094579  \n",
            "148    0.127451  1.094579  \n",
            "13     0.127451  1.094579  \n",
            "16     0.127451  1.094579  \n",
            "136    0.127451  1.033769  \n",
            "9      0.127451  1.033769  \n",
            "14     0.098039  1.022409  \n",
            "156    0.098039  1.022409  \n"
          ]
        }
      ]
    },
    {
      "cell_type": "markdown",
      "source": [
        "**HANDLING OTHER MOVIE (non-outliers)**"
      ],
      "metadata": {
        "id": "lO9dNV_DXhvX"
      }
    },
    {
      "cell_type": "code",
      "source": [
        "#working on cluster 1 or 2\n",
        "rule_feature_2 = movie_df[(movie_df['cluster'] == 1) | (movie_df['cluster'] == 0)]\n",
        "\n",
        "#removing budget and revenue\n",
        "rule_feature_2 = rule_feature_2.drop(columns=['budget', 'revenue','title', 'release_month', 'runtimeMinutes', 'genre', 'cluster'])\n",
        "rule_feature_2. head()"
      ],
      "metadata": {
        "colab": {
          "base_uri": "https://localhost:8080/",
          "height": 255
        },
        "id": "l4VlFpyeXlhq",
        "outputId": "a59f0965-6239-44e5-95a1-bdcbbb5faa4a"
      },
      "execution_count": null,
      "outputs": [
        {
          "output_type": "execute_result",
          "data": {
            "text/plain": [
              "    Adventure   Animation   Biography   Comedy   Crime   Documentary   Drama  \\\n",
              "0           0           0           0        0       0             0       1   \n",
              "1           0           0           0        0       0             0       0   \n",
              "2           0           0           0        1       1             0       0   \n",
              "3           0           1           0        1       0             0       0   \n",
              "4           0           1           0        0       0             0       1   \n",
              "\n",
              "    Family   Fantasy   History  ...  Month_December  Month_February  \\\n",
              "0        0         0         0  ...           False           False   \n",
              "1        0         0         0  ...           False           False   \n",
              "2        0         0         0  ...           False           False   \n",
              "3        1         1         0  ...           False           False   \n",
              "4        1         1         0  ...           False           False   \n",
              "\n",
              "   Month_January  Month_July  Month_June  Month_March  Month_May  \\\n",
              "0          False        True       False        False      False   \n",
              "1          False       False       False         True      False   \n",
              "2           True       False       False        False      False   \n",
              "3          False       False       False         True      False   \n",
              "4          False       False       False        False      False   \n",
              "\n",
              "   Month_November  Month_October  Month_September  \n",
              "0           False          False            False  \n",
              "1           False          False            False  \n",
              "2           False          False            False  \n",
              "3           False          False            False  \n",
              "4           False          False            False  \n",
              "\n",
              "[5 rows x 47 columns]"
            ],
            "text/html": [
              "\n",
              "  <div id=\"df-13995403-5f2b-4b0c-ac81-ba35d95642a2\" class=\"colab-df-container\">\n",
              "    <div>\n",
              "<style scoped>\n",
              "    .dataframe tbody tr th:only-of-type {\n",
              "        vertical-align: middle;\n",
              "    }\n",
              "\n",
              "    .dataframe tbody tr th {\n",
              "        vertical-align: top;\n",
              "    }\n",
              "\n",
              "    .dataframe thead th {\n",
              "        text-align: right;\n",
              "    }\n",
              "</style>\n",
              "<table border=\"1\" class=\"dataframe\">\n",
              "  <thead>\n",
              "    <tr style=\"text-align: right;\">\n",
              "      <th></th>\n",
              "      <th>Adventure</th>\n",
              "      <th>Animation</th>\n",
              "      <th>Biography</th>\n",
              "      <th>Comedy</th>\n",
              "      <th>Crime</th>\n",
              "      <th>Documentary</th>\n",
              "      <th>Drama</th>\n",
              "      <th>Family</th>\n",
              "      <th>Fantasy</th>\n",
              "      <th>History</th>\n",
              "      <th>...</th>\n",
              "      <th>Month_December</th>\n",
              "      <th>Month_February</th>\n",
              "      <th>Month_January</th>\n",
              "      <th>Month_July</th>\n",
              "      <th>Month_June</th>\n",
              "      <th>Month_March</th>\n",
              "      <th>Month_May</th>\n",
              "      <th>Month_November</th>\n",
              "      <th>Month_October</th>\n",
              "      <th>Month_September</th>\n",
              "    </tr>\n",
              "  </thead>\n",
              "  <tbody>\n",
              "    <tr>\n",
              "      <th>0</th>\n",
              "      <td>0</td>\n",
              "      <td>0</td>\n",
              "      <td>0</td>\n",
              "      <td>0</td>\n",
              "      <td>0</td>\n",
              "      <td>0</td>\n",
              "      <td>1</td>\n",
              "      <td>0</td>\n",
              "      <td>0</td>\n",
              "      <td>0</td>\n",
              "      <td>...</td>\n",
              "      <td>False</td>\n",
              "      <td>False</td>\n",
              "      <td>False</td>\n",
              "      <td>True</td>\n",
              "      <td>False</td>\n",
              "      <td>False</td>\n",
              "      <td>False</td>\n",
              "      <td>False</td>\n",
              "      <td>False</td>\n",
              "      <td>False</td>\n",
              "    </tr>\n",
              "    <tr>\n",
              "      <th>1</th>\n",
              "      <td>0</td>\n",
              "      <td>0</td>\n",
              "      <td>0</td>\n",
              "      <td>0</td>\n",
              "      <td>0</td>\n",
              "      <td>0</td>\n",
              "      <td>0</td>\n",
              "      <td>0</td>\n",
              "      <td>0</td>\n",
              "      <td>0</td>\n",
              "      <td>...</td>\n",
              "      <td>False</td>\n",
              "      <td>False</td>\n",
              "      <td>False</td>\n",
              "      <td>False</td>\n",
              "      <td>False</td>\n",
              "      <td>True</td>\n",
              "      <td>False</td>\n",
              "      <td>False</td>\n",
              "      <td>False</td>\n",
              "      <td>False</td>\n",
              "    </tr>\n",
              "    <tr>\n",
              "      <th>2</th>\n",
              "      <td>0</td>\n",
              "      <td>0</td>\n",
              "      <td>0</td>\n",
              "      <td>1</td>\n",
              "      <td>1</td>\n",
              "      <td>0</td>\n",
              "      <td>0</td>\n",
              "      <td>0</td>\n",
              "      <td>0</td>\n",
              "      <td>0</td>\n",
              "      <td>...</td>\n",
              "      <td>False</td>\n",
              "      <td>False</td>\n",
              "      <td>True</td>\n",
              "      <td>False</td>\n",
              "      <td>False</td>\n",
              "      <td>False</td>\n",
              "      <td>False</td>\n",
              "      <td>False</td>\n",
              "      <td>False</td>\n",
              "      <td>False</td>\n",
              "    </tr>\n",
              "    <tr>\n",
              "      <th>3</th>\n",
              "      <td>0</td>\n",
              "      <td>1</td>\n",
              "      <td>0</td>\n",
              "      <td>1</td>\n",
              "      <td>0</td>\n",
              "      <td>0</td>\n",
              "      <td>0</td>\n",
              "      <td>1</td>\n",
              "      <td>1</td>\n",
              "      <td>0</td>\n",
              "      <td>...</td>\n",
              "      <td>False</td>\n",
              "      <td>False</td>\n",
              "      <td>False</td>\n",
              "      <td>False</td>\n",
              "      <td>False</td>\n",
              "      <td>True</td>\n",
              "      <td>False</td>\n",
              "      <td>False</td>\n",
              "      <td>False</td>\n",
              "      <td>False</td>\n",
              "    </tr>\n",
              "    <tr>\n",
              "      <th>4</th>\n",
              "      <td>0</td>\n",
              "      <td>1</td>\n",
              "      <td>0</td>\n",
              "      <td>0</td>\n",
              "      <td>0</td>\n",
              "      <td>0</td>\n",
              "      <td>1</td>\n",
              "      <td>1</td>\n",
              "      <td>1</td>\n",
              "      <td>0</td>\n",
              "      <td>...</td>\n",
              "      <td>False</td>\n",
              "      <td>False</td>\n",
              "      <td>False</td>\n",
              "      <td>False</td>\n",
              "      <td>False</td>\n",
              "      <td>False</td>\n",
              "      <td>False</td>\n",
              "      <td>False</td>\n",
              "      <td>False</td>\n",
              "      <td>False</td>\n",
              "    </tr>\n",
              "  </tbody>\n",
              "</table>\n",
              "<p>5 rows × 47 columns</p>\n",
              "</div>\n",
              "    <div class=\"colab-df-buttons\">\n",
              "\n",
              "  <div class=\"colab-df-container\">\n",
              "    <button class=\"colab-df-convert\" onclick=\"convertToInteractive('df-13995403-5f2b-4b0c-ac81-ba35d95642a2')\"\n",
              "            title=\"Convert this dataframe to an interactive table.\"\n",
              "            style=\"display:none;\">\n",
              "\n",
              "  <svg xmlns=\"http://www.w3.org/2000/svg\" height=\"24px\" viewBox=\"0 -960 960 960\">\n",
              "    <path d=\"M120-120v-720h720v720H120Zm60-500h600v-160H180v160Zm220 220h160v-160H400v160Zm0 220h160v-160H400v160ZM180-400h160v-160H180v160Zm440 0h160v-160H620v160ZM180-180h160v-160H180v160Zm440 0h160v-160H620v160Z\"/>\n",
              "  </svg>\n",
              "    </button>\n",
              "\n",
              "  <style>\n",
              "    .colab-df-container {\n",
              "      display:flex;\n",
              "      gap: 12px;\n",
              "    }\n",
              "\n",
              "    .colab-df-convert {\n",
              "      background-color: #E8F0FE;\n",
              "      border: none;\n",
              "      border-radius: 50%;\n",
              "      cursor: pointer;\n",
              "      display: none;\n",
              "      fill: #1967D2;\n",
              "      height: 32px;\n",
              "      padding: 0 0 0 0;\n",
              "      width: 32px;\n",
              "    }\n",
              "\n",
              "    .colab-df-convert:hover {\n",
              "      background-color: #E2EBFA;\n",
              "      box-shadow: 0px 1px 2px rgba(60, 64, 67, 0.3), 0px 1px 3px 1px rgba(60, 64, 67, 0.15);\n",
              "      fill: #174EA6;\n",
              "    }\n",
              "\n",
              "    .colab-df-buttons div {\n",
              "      margin-bottom: 4px;\n",
              "    }\n",
              "\n",
              "    [theme=dark] .colab-df-convert {\n",
              "      background-color: #3B4455;\n",
              "      fill: #D2E3FC;\n",
              "    }\n",
              "\n",
              "    [theme=dark] .colab-df-convert:hover {\n",
              "      background-color: #434B5C;\n",
              "      box-shadow: 0px 1px 3px 1px rgba(0, 0, 0, 0.15);\n",
              "      filter: drop-shadow(0px 1px 2px rgba(0, 0, 0, 0.3));\n",
              "      fill: #FFFFFF;\n",
              "    }\n",
              "  </style>\n",
              "\n",
              "    <script>\n",
              "      const buttonEl =\n",
              "        document.querySelector('#df-13995403-5f2b-4b0c-ac81-ba35d95642a2 button.colab-df-convert');\n",
              "      buttonEl.style.display =\n",
              "        google.colab.kernel.accessAllowed ? 'block' : 'none';\n",
              "\n",
              "      async function convertToInteractive(key) {\n",
              "        const element = document.querySelector('#df-13995403-5f2b-4b0c-ac81-ba35d95642a2');\n",
              "        const dataTable =\n",
              "          await google.colab.kernel.invokeFunction('convertToInteractive',\n",
              "                                                    [key], {});\n",
              "        if (!dataTable) return;\n",
              "\n",
              "        const docLinkHtml = 'Like what you see? Visit the ' +\n",
              "          '<a target=\"_blank\" href=https://colab.research.google.com/notebooks/data_table.ipynb>data table notebook</a>'\n",
              "          + ' to learn more about interactive tables.';\n",
              "        element.innerHTML = '';\n",
              "        dataTable['output_type'] = 'display_data';\n",
              "        await google.colab.output.renderOutput(dataTable, element);\n",
              "        const docLink = document.createElement('div');\n",
              "        docLink.innerHTML = docLinkHtml;\n",
              "        element.appendChild(docLink);\n",
              "      }\n",
              "    </script>\n",
              "  </div>\n",
              "\n",
              "\n",
              "    <div id=\"df-a707753e-63f2-44af-b694-42c505b6c07c\">\n",
              "      <button class=\"colab-df-quickchart\" onclick=\"quickchart('df-a707753e-63f2-44af-b694-42c505b6c07c')\"\n",
              "                title=\"Suggest charts\"\n",
              "                style=\"display:none;\">\n",
              "\n",
              "<svg xmlns=\"http://www.w3.org/2000/svg\" height=\"24px\"viewBox=\"0 0 24 24\"\n",
              "     width=\"24px\">\n",
              "    <g>\n",
              "        <path d=\"M19 3H5c-1.1 0-2 .9-2 2v14c0 1.1.9 2 2 2h14c1.1 0 2-.9 2-2V5c0-1.1-.9-2-2-2zM9 17H7v-7h2v7zm4 0h-2V7h2v10zm4 0h-2v-4h2v4z\"/>\n",
              "    </g>\n",
              "</svg>\n",
              "      </button>\n",
              "\n",
              "<style>\n",
              "  .colab-df-quickchart {\n",
              "      --bg-color: #E8F0FE;\n",
              "      --fill-color: #1967D2;\n",
              "      --hover-bg-color: #E2EBFA;\n",
              "      --hover-fill-color: #174EA6;\n",
              "      --disabled-fill-color: #AAA;\n",
              "      --disabled-bg-color: #DDD;\n",
              "  }\n",
              "\n",
              "  [theme=dark] .colab-df-quickchart {\n",
              "      --bg-color: #3B4455;\n",
              "      --fill-color: #D2E3FC;\n",
              "      --hover-bg-color: #434B5C;\n",
              "      --hover-fill-color: #FFFFFF;\n",
              "      --disabled-bg-color: #3B4455;\n",
              "      --disabled-fill-color: #666;\n",
              "  }\n",
              "\n",
              "  .colab-df-quickchart {\n",
              "    background-color: var(--bg-color);\n",
              "    border: none;\n",
              "    border-radius: 50%;\n",
              "    cursor: pointer;\n",
              "    display: none;\n",
              "    fill: var(--fill-color);\n",
              "    height: 32px;\n",
              "    padding: 0;\n",
              "    width: 32px;\n",
              "  }\n",
              "\n",
              "  .colab-df-quickchart:hover {\n",
              "    background-color: var(--hover-bg-color);\n",
              "    box-shadow: 0 1px 2px rgba(60, 64, 67, 0.3), 0 1px 3px 1px rgba(60, 64, 67, 0.15);\n",
              "    fill: var(--button-hover-fill-color);\n",
              "  }\n",
              "\n",
              "  .colab-df-quickchart-complete:disabled,\n",
              "  .colab-df-quickchart-complete:disabled:hover {\n",
              "    background-color: var(--disabled-bg-color);\n",
              "    fill: var(--disabled-fill-color);\n",
              "    box-shadow: none;\n",
              "  }\n",
              "\n",
              "  .colab-df-spinner {\n",
              "    border: 2px solid var(--fill-color);\n",
              "    border-color: transparent;\n",
              "    border-bottom-color: var(--fill-color);\n",
              "    animation:\n",
              "      spin 1s steps(1) infinite;\n",
              "  }\n",
              "\n",
              "  @keyframes spin {\n",
              "    0% {\n",
              "      border-color: transparent;\n",
              "      border-bottom-color: var(--fill-color);\n",
              "      border-left-color: var(--fill-color);\n",
              "    }\n",
              "    20% {\n",
              "      border-color: transparent;\n",
              "      border-left-color: var(--fill-color);\n",
              "      border-top-color: var(--fill-color);\n",
              "    }\n",
              "    30% {\n",
              "      border-color: transparent;\n",
              "      border-left-color: var(--fill-color);\n",
              "      border-top-color: var(--fill-color);\n",
              "      border-right-color: var(--fill-color);\n",
              "    }\n",
              "    40% {\n",
              "      border-color: transparent;\n",
              "      border-right-color: var(--fill-color);\n",
              "      border-top-color: var(--fill-color);\n",
              "    }\n",
              "    60% {\n",
              "      border-color: transparent;\n",
              "      border-right-color: var(--fill-color);\n",
              "    }\n",
              "    80% {\n",
              "      border-color: transparent;\n",
              "      border-right-color: var(--fill-color);\n",
              "      border-bottom-color: var(--fill-color);\n",
              "    }\n",
              "    90% {\n",
              "      border-color: transparent;\n",
              "      border-bottom-color: var(--fill-color);\n",
              "    }\n",
              "  }\n",
              "</style>\n",
              "\n",
              "      <script>\n",
              "        async function quickchart(key) {\n",
              "          const quickchartButtonEl =\n",
              "            document.querySelector('#' + key + ' button');\n",
              "          quickchartButtonEl.disabled = true;  // To prevent multiple clicks.\n",
              "          quickchartButtonEl.classList.add('colab-df-spinner');\n",
              "          try {\n",
              "            const charts = await google.colab.kernel.invokeFunction(\n",
              "                'suggestCharts', [key], {});\n",
              "          } catch (error) {\n",
              "            console.error('Error during call to suggestCharts:', error);\n",
              "          }\n",
              "          quickchartButtonEl.classList.remove('colab-df-spinner');\n",
              "          quickchartButtonEl.classList.add('colab-df-quickchart-complete');\n",
              "        }\n",
              "        (() => {\n",
              "          let quickchartButtonEl =\n",
              "            document.querySelector('#df-a707753e-63f2-44af-b694-42c505b6c07c button');\n",
              "          quickchartButtonEl.style.display =\n",
              "            google.colab.kernel.accessAllowed ? 'block' : 'none';\n",
              "        })();\n",
              "      </script>\n",
              "    </div>\n",
              "\n",
              "    </div>\n",
              "  </div>\n"
            ],
            "application/vnd.google.colaboratory.intrinsic+json": {
              "type": "dataframe"
            }
          },
          "metadata": {},
          "execution_count": 21
        }
      ]
    },
    {
      "cell_type": "code",
      "source": [
        "#frequent items\n",
        "frequent_items_2 = apriori(rule_feature_2, min_support=0.05, use_colnames=True)\n",
        "\n",
        "#extract rules\n",
        "rules_2 = association_rules(frequent_items_2, metric='lift', min_threshold=1)\n",
        "\n",
        "# Keep only rules where the consequent is month\n",
        "rules_2 = rules_2[rules_2['consequents'].apply(lambda x: all('Month' in item for item in x))]\n",
        "\n",
        "rules_2 = rules_2.sort_values(by='lift', ascending=False)\n",
        "print(rules_2[['antecedents', 'consequents', 'support', 'confidence', 'lift']])"
      ],
      "metadata": {
        "colab": {
          "base_uri": "https://localhost:8080/"
        },
        "id": "t9RO_MYCYvCa",
        "outputId": "8635876f-58e0-4d22-bd12-3206347e9298"
      },
      "execution_count": null,
      "outputs": [
        {
          "output_type": "stream",
          "name": "stderr",
          "text": [
            "/usr/local/lib/python3.12/dist-packages/mlxtend/frequent_patterns/fpcommon.py:161: DeprecationWarning: DataFrames with non-bool types result in worse computationalperformance and their support might be discontinued in the future.Please use a DataFrame with bool type\n",
            "  warnings.warn(\n"
          ]
        },
        {
          "output_type": "stream",
          "name": "stdout",
          "text": [
            "   antecedents      consequents   support  confidence      lift\n",
            "19    ( Drama)  (Month_October)  0.051345    0.116022  1.148057\n"
          ]
        }
      ]
    },
    {
      "cell_type": "markdown",
      "source": [
        "## **COMPARSION OF RULES**"
      ],
      "metadata": {
        "id": "D6CPZQF4dEco"
      }
    },
    {
      "cell_type": "markdown",
      "source": [
        "**FOR OUTLIERS**"
      ],
      "metadata": {
        "id": "RaGT-oW1lDGh"
      }
    },
    {
      "cell_type": "code",
      "source": [
        "# Convert genre and month sets/tuples into strings\n",
        "rules['genre_combo'] = rules['antecedents'].apply(lambda x: ', '.join(sorted(list(x))))\n",
        "rules['month_combo'] = rules['consequents'].apply(lambda x: ', '.join(sorted(list(x))))\n",
        "\n",
        "# Example: top 20 strongest rules\n",
        "top_rules = rules.sort_values(by='lift', ascending=False).head(20)"
      ],
      "metadata": {
        "id": "vPlTno-seJIR"
      },
      "execution_count": null,
      "outputs": []
    },
    {
      "cell_type": "markdown",
      "source": [
        "**FOR NON-OUTLIERS**"
      ],
      "metadata": {
        "id": "anTp7moIlF3K"
      }
    },
    {
      "cell_type": "code",
      "source": [
        "# Convert genre and month sets/tuples into strings\n",
        "rules_2['genre_combo'] = rules_2['antecedents'].apply(lambda x: ', '.join(sorted(list(x))))\n",
        "rules_2['month_combo'] = rules_2['consequents'].apply(lambda x: ', '.join(sorted(list(x))))\n",
        "\n",
        "# Example: top 20 strongest rules\n",
        "top_rules_2 = rules_2.sort_values(by='lift', ascending=False).head(20)"
      ],
      "metadata": {
        "id": "sl_9XldOkf_O"
      },
      "execution_count": null,
      "outputs": []
    },
    {
      "cell_type": "markdown",
      "source": [
        "**BAR PLOT COMPARISONS**"
      ],
      "metadata": {
        "id": "XRTvTTS9p_aG"
      }
    },
    {
      "cell_type": "code",
      "source": [
        "fig, axes = plt.subplots(1, 2, figsize=(16, 8), sharex=True)\n",
        "\n",
        "sns.barplot(data=top_rules, x='lift', y='genre_combo', hue='month_combo', ax=axes[0])\n",
        "axes[0].set_title('Outliers')\n",
        "sns.barplot(data=top_rules_2, x='lift', y='genre_combo', hue='month_combo', ax=axes[1])\n",
        "axes[1].set_title('Non-Outliers')\n",
        "\n",
        "plt.tight_layout()\n",
        "plt.show()\n"
      ],
      "metadata": {
        "colab": {
          "base_uri": "https://localhost:8080/",
          "height": 581
        },
        "id": "V2flBqPIkmoj",
        "outputId": "a057fced-ccb9-4133-d218-a92f66099ba8"
      },
      "execution_count": null,
      "outputs": [
        {
          "output_type": "display_data",
          "data": {
            "text/plain": [
              "<Figure size 1600x800 with 2 Axes>"
            ],
            "image/png": "[encoded data removed]"
          },
          "metadata": {}
        }
      ]
    },
    {
      "cell_type": "markdown",
      "source": [
        "From the bar plot, we observe a clear pattern in the release timing of outlier (high-grossing) movies, whereas for non-outliers, no discernible pattern emerges. This suggests that most movie studios prioritize strategic release dates for high-budget or potentially high-revenue films, while lower-budget movies receive comparatively less planning in their release strategy.\n",
        "\n",
        "This finding opens the door for further research: it would be valuable to investigate whether a more strategic release schedule for low-budget movies could positively influence their performance. Such research could focus solely on release timing, independent of marketing expenditure, to isolate the effect of strategic scheduling on movie success. Additionally, integrating social media analysis could provide insights into audience trends and preferences, helping studios identify optimal release windows based not only on historical patterns but also on real-time public interest."
      ],
      "metadata": {
        "id": "om84I1h7qJsi"
      }
    },
    {
      "cell_type": "markdown",
      "source": [
        "The bar plot reveals a clear pattern in the release timing of high-grossing movies, while lower-budget films show no discernible pattern. This suggests that studios strategically plan releases for potential blockbusters but place less emphasis on low-budget movies. Future research could explore whether more strategic release scheduling could improve the performance of lower-budget films, potentially incorporating social media trends to identify optimal release windows based on real-time audience interest."
      ],
      "metadata": {
        "id": "bniSWUsoriW4"
      }
    },
    {
      "cell_type": "code",
      "source": [],
      "metadata": {
        "id": "gWr_suxKqYgv"
      },
      "execution_count": null,
      "outputs": []
    }
  ]
}